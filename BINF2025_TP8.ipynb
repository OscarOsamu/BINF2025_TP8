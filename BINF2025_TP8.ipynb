{
 "cells": [
  {
   "cell_type": "markdown",
   "metadata": {
    "colab_type": "text",
    "id": "view-in-github"
   },
   "source": [
    "<a href=\"https://colab.research.google.com/github/pparutto/BINF2025_TP8/blob/main/BINF2025_TP8.ipynb\" target=\"_parent\"><img src=\"https://colab.research.google.com/assets/colab-badge.svg\" alt=\"Open In Colab\"/></a>"
   ]
  },
  {
   "cell_type": "markdown",
   "metadata": {
    "id": "Y6ZyFufWOi6c"
   },
   "source": [
    "# BINF TP 8 : Genome wide association study\n",
    "\n",
    "L'étude d'association pangénomique - Genome Wide Association study (GWAS) - est une méthode permettant de mettre en avant des mutations génétiques associées à une condition. Pour cela, on va recruter un ensemble de sujets possédant la condition que l’on souhaite étudier et un ensemble de sujets contrôle \"sains\". On va ensuite génotyper (ou séquencer) chaque sujet, c’est-à-dire déterminer les nucléotides présents à un ensembles de positions précises le long du génome. Ces positions sont connues pour posséder plusieurs nucléotides différents (des allèles) dans la population humaine qu'on appelle SNP (Single Nucleotide Polymorphism).\n",
    "\n",
    "Dans ce TP nous allons chercher les gènes associés aux maladies cornariennes - ensemble de maladies où les artères vascularisant le cœur n’arrivent plus à apporter suffisamment de sang pour alimenter les muscles cardiaques. Nous allons utiliser les données de l’étude [PennCath](https://pmc.ncbi.nlm.nih.gov/articles/PMC3335297/). Cette étude comporte 1401 sujets pour lesquels on a génotypé 860473 positions.\n",
    "\n",
    "Les données sont disponibles [ici](https://www.dropbox.com/scl/fo/tyt6sx74zevblzl4i5lpr/AAJt-WmbWCKmsPuRyzYPfP0?rlkey=yuklfyfy7b93yn2sow0uzuzub&dl=0). Notez que le fichier de génotypage complet avec 1401 patients fait > 2 go, pour faciliter le TP, nous utiliserons un fichier réduit avec seulement 100 patients."
   ]
  },
  {
   "cell_type": "markdown",
   "metadata": {
    "id": "DjL8nAEFQg2e"
   },
   "source": [
    "## Exercice 1 : Chargement des données\n",
    "\n",
    "Les données de l’étude sont divisées en plusieurs fichiers :\n",
    "\n",
    "\n",
    "* penncath.bim : qui contient les informations sur les positions génotypées (SNPs), une position par ligne avec les colonnes suivantes :\n",
    "  * Chromosome : pouvant contenir les valeurs 1 – 22, X ou Y.\n",
    "  * Identifiant de la position dans le génome de référence.\n",
    "  *\tDistance génétique (ignorez cette colonne, elle n’est pas remplie dans le fichier).\n",
    "  * Position sur le chromosome en paires de bases (on va aussi ignorer cette colonne).\n",
    "  * Allèle mineure : allèle alternative dans la population (valeurs A,T,G,C ou -9 pour indiquer une absence de données).\n",
    "  *\tAllèle majeure : allèle la plus présente dans la population.\n",
    "\n",
    "*\tpenncath.fam : qui contient les informations sur les sujets, une ligne par individu. Dans ce fichier, on s’intéresse uniquement à la première colonne qui contient l’identifiant de la famille.\n",
    "\n",
    "*\tpenncath.csv : qui contient des informations cliniques sur les patients, en particulier s’il est atteint de la maladie coronarienne. Ce fichier contient une ligne par patient avec les colonnes suivantes :\n",
    "   * Id du patient correspondant à la première colonne du fichier fam.\n",
    "   * Maladie coronarienne : 1=OUI, 0=NON.\n",
    "   * Les autres colonnes ne nous intéressent pas.\n",
    "\n",
    "* genotype_small.csv : contient les donnes de génotypage, une colonne par patient, une ligne par position génotypée. Les valeurs sont : 0 : homozygote allèle majeur, 1 : hétérozygote, 2 : homozygote allèle mineure, 3 : génotype manquant.\n",
    "\n",
    "Chargez les différents fichiers en faisant attention à bien maintenir l’ordre des lignes entre patients et génotypes et associez à chaque patient son statut malade ou sain."
   ]
  },
  {
   "cell_type": "code",
   "execution_count": 1,
   "metadata": {},
   "outputs": [
    {
     "name": "stdout",
     "output_type": "stream",
     "text": [
      "Requirement already satisfied: pandas-plink in c:\\users\\lisam\\anaconda3\\lib\\site-packages (2.3.2)\n",
      "Requirement already satisfied: cffi>=1.17 in c:\\users\\lisam\\anaconda3\\lib\\site-packages (from pandas-plink) (1.17.1)\n",
      "Requirement already satisfied: dask[dataframe] in c:\\users\\lisam\\anaconda3\\lib\\site-packages (from pandas-plink) (2023.6.0)\n",
      "Requirement already satisfied: deprecated<2.0,>=1.2 in c:\\users\\lisam\\anaconda3\\lib\\site-packages (from pandas-plink) (1.2.18)\n",
      "Requirement already satisfied: numpy<2.0,>=1.0 in c:\\users\\lisam\\anaconda3\\lib\\site-packages (from pandas-plink) (1.24.3)\n",
      "Requirement already satisfied: pandas<3.0,>=2.2 in c:\\users\\lisam\\anaconda3\\lib\\site-packages (from pandas-plink) (2.3.0)\n",
      "Requirement already satisfied: pandera[dask,mypy] in c:\\users\\lisam\\anaconda3\\lib\\site-packages (from pandas-plink) (0.24.0)\n",
      "Requirement already satisfied: tqdm<5.0,>=4.67 in c:\\users\\lisam\\anaconda3\\lib\\site-packages (from pandas-plink) (4.67.1)\n",
      "Requirement already satisfied: xarray in c:\\users\\lisam\\anaconda3\\lib\\site-packages (from pandas-plink) (2023.6.0)\n",
      "Requirement already satisfied: zstandard<0.24,>=0.23 in c:\\users\\lisam\\anaconda3\\lib\\site-packages (from pandas-plink) (0.23.0)\n",
      "Requirement already satisfied: pycparser in c:\\users\\lisam\\anaconda3\\lib\\site-packages (from cffi>=1.17->pandas-plink) (2.21)\n",
      "Requirement already satisfied: wrapt<2,>=1.10 in c:\\users\\lisam\\anaconda3\\lib\\site-packages (from deprecated<2.0,>=1.2->pandas-plink) (1.14.1)\n",
      "Requirement already satisfied: python-dateutil>=2.8.2 in c:\\users\\lisam\\anaconda3\\lib\\site-packages (from pandas<3.0,>=2.2->pandas-plink) (2.8.2)\n",
      "Requirement already satisfied: pytz>=2020.1 in c:\\users\\lisam\\anaconda3\\lib\\site-packages (from pandas<3.0,>=2.2->pandas-plink) (2023.3.post1)\n",
      "Requirement already satisfied: tzdata>=2022.7 in c:\\users\\lisam\\anaconda3\\lib\\site-packages (from pandas<3.0,>=2.2->pandas-plink) (2023.3)\n",
      "Requirement already satisfied: colorama in c:\\users\\lisam\\anaconda3\\lib\\site-packages (from tqdm<5.0,>=4.67->pandas-plink) (0.4.6)\n",
      "Requirement already satisfied: click>=8.0 in c:\\users\\lisam\\anaconda3\\lib\\site-packages (from dask[dataframe]->pandas-plink) (8.0.4)\n",
      "Requirement already satisfied: cloudpickle>=1.5.0 in c:\\users\\lisam\\anaconda3\\lib\\site-packages (from dask[dataframe]->pandas-plink) (2.2.1)\n",
      "Requirement already satisfied: fsspec>=2021.09.0 in c:\\users\\lisam\\anaconda3\\lib\\site-packages (from dask[dataframe]->pandas-plink) (2023.4.0)\n",
      "Requirement already satisfied: packaging>=20.0 in c:\\users\\lisam\\anaconda3\\lib\\site-packages (from dask[dataframe]->pandas-plink) (23.1)\n",
      "Requirement already satisfied: partd>=1.2.0 in c:\\users\\lisam\\anaconda3\\lib\\site-packages (from dask[dataframe]->pandas-plink) (1.4.0)\n",
      "Requirement already satisfied: pyyaml>=5.3.1 in c:\\users\\lisam\\anaconda3\\lib\\site-packages (from dask[dataframe]->pandas-plink) (6.0)\n",
      "Requirement already satisfied: toolz>=0.10.0 in c:\\users\\lisam\\anaconda3\\lib\\site-packages (from dask[dataframe]->pandas-plink) (0.12.0)\n",
      "Requirement already satisfied: importlib-metadata>=4.13.0 in c:\\users\\lisam\\anaconda3\\lib\\site-packages (from dask[dataframe]->pandas-plink) (6.0.0)\n",
      "Requirement already satisfied: pydantic in c:\\users\\lisam\\anaconda3\\lib\\site-packages (from pandera[dask,mypy]->pandas-plink) (1.10.8)\n",
      "Requirement already satisfied: typeguard in c:\\users\\lisam\\anaconda3\\lib\\site-packages (from pandera[dask,mypy]->pandas-plink) (4.4.3)\n",
      "Requirement already satisfied: typing_extensions in c:\\users\\lisam\\anaconda3\\lib\\site-packages (from pandera[dask,mypy]->pandas-plink) (4.14.0)\n",
      "Requirement already satisfied: typing_inspect>=0.6.0 in c:\\users\\lisam\\anaconda3\\lib\\site-packages (from pandera[dask,mypy]->pandas-plink) (0.9.0)\n",
      "Requirement already satisfied: pandas-stubs in c:\\users\\lisam\\anaconda3\\lib\\site-packages (from pandera[dask,mypy]->pandas-plink) (2.2.3.250527)\n",
      "Requirement already satisfied: distributed in c:\\users\\lisam\\anaconda3\\lib\\site-packages (from pandera[dask,mypy]->pandas-plink) (2023.6.0)\n",
      "Requirement already satisfied: zipp>=0.5 in c:\\users\\lisam\\anaconda3\\lib\\site-packages (from importlib-metadata>=4.13.0->dask[dataframe]->pandas-plink) (3.11.0)\n",
      "Requirement already satisfied: locket in c:\\users\\lisam\\anaconda3\\lib\\site-packages (from partd>=1.2.0->dask[dataframe]->pandas-plink) (1.0.0)\n",
      "Requirement already satisfied: six>=1.5 in c:\\users\\lisam\\anaconda3\\lib\\site-packages (from python-dateutil>=2.8.2->pandas<3.0,>=2.2->pandas-plink) (1.16.0)\n",
      "Requirement already satisfied: mypy-extensions>=0.3.0 in c:\\users\\lisam\\anaconda3\\lib\\site-packages (from typing_inspect>=0.6.0->pandera[dask,mypy]->pandas-plink) (1.0.0)\n",
      "Requirement already satisfied: jinja2>=2.10.3 in c:\\users\\lisam\\anaconda3\\lib\\site-packages (from distributed->pandera[dask,mypy]->pandas-plink) (3.1.2)\n",
      "Requirement already satisfied: msgpack>=1.0.0 in c:\\users\\lisam\\anaconda3\\lib\\site-packages (from distributed->pandera[dask,mypy]->pandas-plink) (1.0.3)\n",
      "Requirement already satisfied: psutil>=5.7.2 in c:\\users\\lisam\\anaconda3\\lib\\site-packages (from distributed->pandera[dask,mypy]->pandas-plink) (5.9.0)\n",
      "Requirement already satisfied: sortedcontainers>=2.0.5 in c:\\users\\lisam\\anaconda3\\lib\\site-packages (from distributed->pandera[dask,mypy]->pandas-plink) (2.4.0)\n",
      "Requirement already satisfied: tblib>=1.6.0 in c:\\users\\lisam\\anaconda3\\lib\\site-packages (from distributed->pandera[dask,mypy]->pandas-plink) (1.7.0)\n",
      "Requirement already satisfied: tornado>=6.0.4 in c:\\users\\lisam\\anaconda3\\lib\\site-packages (from distributed->pandera[dask,mypy]->pandas-plink) (6.3.2)\n",
      "Requirement already satisfied: urllib3>=1.24.3 in c:\\users\\lisam\\anaconda3\\lib\\site-packages (from distributed->pandera[dask,mypy]->pandas-plink) (1.26.16)\n",
      "Requirement already satisfied: zict>=2.2.0 in c:\\users\\lisam\\anaconda3\\lib\\site-packages (from distributed->pandera[dask,mypy]->pandas-plink) (2.2.0)\n",
      "Requirement already satisfied: types-pytz>=2022.1.1 in c:\\users\\lisam\\anaconda3\\lib\\site-packages (from pandas-stubs->pandera[dask,mypy]->pandas-plink) (2025.2.0.20250516)\n",
      "Requirement already satisfied: MarkupSafe>=2.0 in c:\\users\\lisam\\anaconda3\\lib\\site-packages (from jinja2>=2.10.3->distributed->pandera[dask,mypy]->pandas-plink) (2.1.1)\n",
      "Requirement already satisfied: heapdict in c:\\users\\lisam\\anaconda3\\lib\\site-packages (from zict>=2.2.0->distributed->pandera[dask,mypy]->pandas-plink) (1.0.1)\n"
     ]
    }
   ],
   "source": [
    "!pip install pandas-plink"
   ]
  },
  {
   "cell_type": "code",
   "execution_count": 2,
   "metadata": {},
   "outputs": [
    {
     "name": "stderr",
     "output_type": "stream",
     "text": [
      "C:\\Users\\lisam\\anaconda3\\Lib\\site-packages\\pandas\\core\\arrays\\masked.py:61: UserWarning: Pandas requires version '1.3.6' or newer of 'bottleneck' (version '1.3.5' currently installed).\n",
      "  from pandas.core import (\n"
     ]
    },
    {
     "data": {
      "text/html": [
       "<div>\n",
       "<style scoped>\n",
       "    .dataframe tbody tr th:only-of-type {\n",
       "        vertical-align: middle;\n",
       "    }\n",
       "\n",
       "    .dataframe tbody tr th {\n",
       "        vertical-align: top;\n",
       "    }\n",
       "\n",
       "    .dataframe thead th {\n",
       "        text-align: right;\n",
       "    }\n",
       "</style>\n",
       "<table border=\"1\" class=\"dataframe\">\n",
       "  <thead>\n",
       "    <tr style=\"text-align: right;\">\n",
       "      <th></th>\n",
       "      <th>FamID</th>\n",
       "      <th>CAD</th>\n",
       "      <th>sex</th>\n",
       "      <th>age</th>\n",
       "      <th>tg</th>\n",
       "      <th>hdl</th>\n",
       "      <th>ldl</th>\n",
       "    </tr>\n",
       "  </thead>\n",
       "  <tbody>\n",
       "    <tr>\n",
       "      <th>0</th>\n",
       "      <td>10002</td>\n",
       "      <td>1</td>\n",
       "      <td>1</td>\n",
       "      <td>60</td>\n",
       "      <td>NaN</td>\n",
       "      <td>NaN</td>\n",
       "      <td>NaN</td>\n",
       "    </tr>\n",
       "    <tr>\n",
       "      <th>1</th>\n",
       "      <td>10004</td>\n",
       "      <td>1</td>\n",
       "      <td>2</td>\n",
       "      <td>50</td>\n",
       "      <td>55.0</td>\n",
       "      <td>23.0</td>\n",
       "      <td>75.0</td>\n",
       "    </tr>\n",
       "    <tr>\n",
       "      <th>2</th>\n",
       "      <td>10005</td>\n",
       "      <td>1</td>\n",
       "      <td>1</td>\n",
       "      <td>55</td>\n",
       "      <td>105.0</td>\n",
       "      <td>37.0</td>\n",
       "      <td>69.0</td>\n",
       "    </tr>\n",
       "    <tr>\n",
       "      <th>3</th>\n",
       "      <td>10007</td>\n",
       "      <td>1</td>\n",
       "      <td>1</td>\n",
       "      <td>52</td>\n",
       "      <td>314.0</td>\n",
       "      <td>54.0</td>\n",
       "      <td>108.0</td>\n",
       "    </tr>\n",
       "    <tr>\n",
       "      <th>4</th>\n",
       "      <td>10008</td>\n",
       "      <td>1</td>\n",
       "      <td>1</td>\n",
       "      <td>58</td>\n",
       "      <td>161.0</td>\n",
       "      <td>40.0</td>\n",
       "      <td>94.0</td>\n",
       "    </tr>\n",
       "  </tbody>\n",
       "</table>\n",
       "</div>"
      ],
      "text/plain": [
       "   FamID  CAD  sex  age     tg   hdl    ldl\n",
       "0  10002    1    1   60    NaN   NaN    NaN\n",
       "1  10004    1    2   50   55.0  23.0   75.0\n",
       "2  10005    1    1   55  105.0  37.0   69.0\n",
       "3  10007    1    1   52  314.0  54.0  108.0\n",
       "4  10008    1    1   58  161.0  40.0   94.0"
      ]
     },
     "execution_count": 2,
     "metadata": {},
     "output_type": "execute_result"
    }
   ],
   "source": [
    "import pandas as pd\n",
    "import numpy as np\n",
    "\n",
    "pd.read_csv(\"penncath.csv\", nrows=5)\n"
   ]
  },
  {
   "cell_type": "code",
   "execution_count": 3,
   "metadata": {
    "id": "z15tAP9gQHDG"
   },
   "outputs": [],
   "source": [
    "import pandas as pd\n",
    "import numpy as np\n",
    "\n",
    "# Lecture du fichier .fam\n",
    "fam_cols = [\"family_id\", \"sample_id\", \"paternal_id\", \"maternal_id\", \"sex\", \"phenotype\"]\n",
    "fam = pd.read_csv(\n",
    "    \"penncath.fam\",\n",
    "    sep=r\"\\s+\",            \n",
    "    header=None,\n",
    "    names=fam_cols,\n",
    "    dtype=str\n",
    ")\n",
    "\n",
    "clin = (\n",
    "    pd.read_csv(\n",
    "        \"penncath.csv\",\n",
    "        usecols=[\"FamID\", \"CAD\"],        \n",
    "        dtype={\"FamID\": str}\n",
    "    )\n",
    "    .rename(columns={\"FamID\": \"family_id\", \"CAD\": \"cad_status\"})  \n",
    ")\n",
    "\n",
    "clin[\"cad_status\"] = pd.to_numeric(clin[\"cad_status\"], errors=\"coerce\").astype(\"Int8\")\n",
    "\n",
    "patients = fam[[\"family_id\"]].merge(clin, on=\"family_id\", how=\"left\", sort=False)\n",
    "\n"
   ]
  },
  {
   "cell_type": "code",
   "execution_count": null,
   "metadata": {},
   "outputs": [],
   "source": []
  },
  {
   "cell_type": "code",
   "execution_count": 4,
   "metadata": {},
   "outputs": [
    {
     "ename": "MemoryError",
     "evalue": "",
     "output_type": "error",
     "traceback": [
      "\u001b[1;31m---------------------------------------------------------------------------\u001b[0m",
      "\u001b[1;31mMemoryError\u001b[0m                               Traceback (most recent call last)",
      "Cell \u001b[1;32mIn[4], line 1\u001b[0m\n\u001b[1;32m----> 1\u001b[0m genotypes \u001b[38;5;241m=\u001b[39m pd\u001b[38;5;241m.\u001b[39mread_csv(\u001b[38;5;124m\"\u001b[39m\u001b[38;5;124mgenotypes_small.csv\u001b[39m\u001b[38;5;124m\"\u001b[39m, header\u001b[38;5;241m=\u001b[39m\u001b[38;5;28;01mNone\u001b[39;00m)\n\u001b[0;32m      3\u001b[0m genotypes_T \u001b[38;5;241m=\u001b[39m genotypes\u001b[38;5;241m.\u001b[39mT\n\u001b[0;32m      4\u001b[0m genotypes_T\u001b[38;5;241m.\u001b[39mcolumns \u001b[38;5;241m=\u001b[39m [\u001b[38;5;124mf\u001b[39m\u001b[38;5;124m\"\u001b[39m\u001b[38;5;124msnp_\u001b[39m\u001b[38;5;132;01m{\u001b[39;00mi\u001b[38;5;132;01m}\u001b[39;00m\u001b[38;5;124m\"\u001b[39m \u001b[38;5;28;01mfor\u001b[39;00m i \u001b[38;5;129;01min\u001b[39;00m \u001b[38;5;28mrange\u001b[39m(genotypes\u001b[38;5;241m.\u001b[39mshape[\u001b[38;5;241m0\u001b[39m])] \n",
      "File \u001b[1;32m~\\anaconda3\\Lib\\site-packages\\pandas\\io\\parsers\\readers.py:1026\u001b[0m, in \u001b[0;36mread_csv\u001b[1;34m(filepath_or_buffer, sep, delimiter, header, names, index_col, usecols, dtype, engine, converters, true_values, false_values, skipinitialspace, skiprows, skipfooter, nrows, na_values, keep_default_na, na_filter, verbose, skip_blank_lines, parse_dates, infer_datetime_format, keep_date_col, date_parser, date_format, dayfirst, cache_dates, iterator, chunksize, compression, thousands, decimal, lineterminator, quotechar, quoting, doublequote, escapechar, comment, encoding, encoding_errors, dialect, on_bad_lines, delim_whitespace, low_memory, memory_map, float_precision, storage_options, dtype_backend)\u001b[0m\n\u001b[0;32m   1013\u001b[0m kwds_defaults \u001b[38;5;241m=\u001b[39m _refine_defaults_read(\n\u001b[0;32m   1014\u001b[0m     dialect,\n\u001b[0;32m   1015\u001b[0m     delimiter,\n\u001b[1;32m   (...)\u001b[0m\n\u001b[0;32m   1022\u001b[0m     dtype_backend\u001b[38;5;241m=\u001b[39mdtype_backend,\n\u001b[0;32m   1023\u001b[0m )\n\u001b[0;32m   1024\u001b[0m kwds\u001b[38;5;241m.\u001b[39mupdate(kwds_defaults)\n\u001b[1;32m-> 1026\u001b[0m \u001b[38;5;28;01mreturn\u001b[39;00m _read(filepath_or_buffer, kwds)\n",
      "File \u001b[1;32m~\\anaconda3\\Lib\\site-packages\\pandas\\io\\parsers\\readers.py:626\u001b[0m, in \u001b[0;36m_read\u001b[1;34m(filepath_or_buffer, kwds)\u001b[0m\n\u001b[0;32m    623\u001b[0m     \u001b[38;5;28;01mreturn\u001b[39;00m parser\n\u001b[0;32m    625\u001b[0m \u001b[38;5;28;01mwith\u001b[39;00m parser:\n\u001b[1;32m--> 626\u001b[0m     \u001b[38;5;28;01mreturn\u001b[39;00m parser\u001b[38;5;241m.\u001b[39mread(nrows)\n",
      "File \u001b[1;32m~\\anaconda3\\Lib\\site-packages\\pandas\\io\\parsers\\readers.py:1923\u001b[0m, in \u001b[0;36mTextFileReader.read\u001b[1;34m(self, nrows)\u001b[0m\n\u001b[0;32m   1916\u001b[0m nrows \u001b[38;5;241m=\u001b[39m validate_integer(\u001b[38;5;124m\"\u001b[39m\u001b[38;5;124mnrows\u001b[39m\u001b[38;5;124m\"\u001b[39m, nrows)\n\u001b[0;32m   1917\u001b[0m \u001b[38;5;28;01mtry\u001b[39;00m:\n\u001b[0;32m   1918\u001b[0m     \u001b[38;5;66;03m# error: \"ParserBase\" has no attribute \"read\"\u001b[39;00m\n\u001b[0;32m   1919\u001b[0m     (\n\u001b[0;32m   1920\u001b[0m         index,\n\u001b[0;32m   1921\u001b[0m         columns,\n\u001b[0;32m   1922\u001b[0m         col_dict,\n\u001b[1;32m-> 1923\u001b[0m     ) \u001b[38;5;241m=\u001b[39m \u001b[38;5;28mself\u001b[39m\u001b[38;5;241m.\u001b[39m_engine\u001b[38;5;241m.\u001b[39mread(  \u001b[38;5;66;03m# type: ignore[attr-defined]\u001b[39;00m\n\u001b[0;32m   1924\u001b[0m         nrows\n\u001b[0;32m   1925\u001b[0m     )\n\u001b[0;32m   1926\u001b[0m \u001b[38;5;28;01mexcept\u001b[39;00m \u001b[38;5;167;01mException\u001b[39;00m:\n\u001b[0;32m   1927\u001b[0m     \u001b[38;5;28mself\u001b[39m\u001b[38;5;241m.\u001b[39mclose()\n",
      "File \u001b[1;32m~\\anaconda3\\Lib\\site-packages\\pandas\\io\\parsers\\c_parser_wrapper.py:234\u001b[0m, in \u001b[0;36mCParserWrapper.read\u001b[1;34m(self, nrows)\u001b[0m\n\u001b[0;32m    232\u001b[0m \u001b[38;5;28;01mtry\u001b[39;00m:\n\u001b[0;32m    233\u001b[0m     \u001b[38;5;28;01mif\u001b[39;00m \u001b[38;5;28mself\u001b[39m\u001b[38;5;241m.\u001b[39mlow_memory:\n\u001b[1;32m--> 234\u001b[0m         chunks \u001b[38;5;241m=\u001b[39m \u001b[38;5;28mself\u001b[39m\u001b[38;5;241m.\u001b[39m_reader\u001b[38;5;241m.\u001b[39mread_low_memory(nrows)\n\u001b[0;32m    235\u001b[0m         \u001b[38;5;66;03m# destructive to chunks\u001b[39;00m\n\u001b[0;32m    236\u001b[0m         data \u001b[38;5;241m=\u001b[39m _concatenate_chunks(chunks)\n",
      "File \u001b[1;32mpandas/_libs/parsers.pyx:838\u001b[0m, in \u001b[0;36mpandas._libs.parsers.TextReader.read_low_memory\u001b[1;34m()\u001b[0m\n",
      "File \u001b[1;32mpandas/_libs/parsers.pyx:921\u001b[0m, in \u001b[0;36mpandas._libs.parsers.TextReader._read_rows\u001b[1;34m()\u001b[0m\n",
      "File \u001b[1;32mpandas/_libs/parsers.pyx:1092\u001b[0m, in \u001b[0;36mpandas._libs.parsers.TextReader._convert_column_data\u001b[1;34m()\u001b[0m\n",
      "\u001b[1;31mMemoryError\u001b[0m: "
     ]
    }
   ],
   "source": [
    "\n",
    "genotypes = pd.read_csv(\"genotypes_small.csv\", header=None)\n",
    "\n",
    "genotypes_T = genotypes.T\n",
    "genotypes_T.columns = [f\"snp_{i}\" for i in range(genotypes.shape[0])] \n",
    "genotypes_T[\"family_id\"] = fam[\"family_id\"].values \n",
    "\n",
    "full_data = genotypes_T.merge(patients, on=\"family_id\", how=\"left\", sort=False)\n",
    "\n",
    "cols = [\"family_id\", \"cad_status\"] + [c for c in full_data.columns if c.startswith(\"snp_\")]\n",
    "full_data = full_data[cols]\n"
   ]
  },
  {
   "cell_type": "markdown",
   "metadata": {
    "id": "-7frqd21RQkL"
   },
   "source": [
    "## Exercice 2 : contrôle qualité\n",
    "\n",
    "Comme on manipule des données brutes, certaines vont être problématiques et on va vouloir les enlever pour éviter de biaiser les résultats. Dans cette exercice, nous allons détecter et filtrer les données problématiques.\n",
    "\n",
    "\n",
    "1. Vérifions la distribution des données par chromosome. Affichez le nombre de SNP pour chaque chromosome sous la forme d'un barplot (l'axe x représente chaque chromosome et l'axe y le nombre de SNPs correspondant)."
   ]
  },
  {
   "cell_type": "code",
   "execution_count": null,
   "metadata": {
    "id": "xvQpFEXcOZUM"
   },
   "outputs": [],
   "source": [
    "\n",
    "import matplotlib.pyplot as plt\n",
    "\n",
    "bim_cols = [\"chrom\", \"snp_id\", \"genetic_dist\", \"pos\", \"allele_minor\", \"allele_major\"]\n",
    "\n",
    "bim = pd.read_csv(\"penncath.bim\", sep=\"\\t\", header=None, names=bim_cols, dtype=str)\n",
    "\n",
    "snp_counts = bim[\"chrom\"].value_counts().sort_index()\n",
    "\n",
    "\n",
    "plt.figure(figsize=(12, 6))\n",
    "snp_counts.plot(kind=\"bar\")\n",
    "plt.title(\"Nombre de SNPs par chromosome\")\n",
    "plt.xlabel(\"Chromosome\")\n",
    "plt.ylabel(\"Nombre de SNPs\")\n",
    "plt.show()\n",
    "\n",
    "print(\"a\")"
   ]
  },
  {
   "cell_type": "markdown",
   "metadata": {
    "id": "AFMU_MFqRruM"
   },
   "source": [
    "2. Qu’observez-vous ?"
   ]
  },
  {
   "cell_type": "markdown",
   "metadata": {
    "id": "LDCUhOq6Rv6f"
   },
   "source": [
    "**Votre réponse ici !!**"
   ]
  },
  {
   "cell_type": "markdown",
   "metadata": {
    "id": "dxWNvXqCRnpZ"
   },
   "source": [
    "2. Vérifions maintenant les valeurs des allèles. Affichez un barplot comptant la quantité de chaque nucléotide apparaissant dans les allèles mineures (-9 signifie une absence de données, affichez le dans le graphique, c’est important).\n"
   ]
  },
  {
   "cell_type": "code",
   "execution_count": null,
   "metadata": {
    "id": "kZHuPUREXmC7"
   },
   "outputs": [],
   "source": [
    "print(\"Votre code ici !!\")"
   ]
  },
  {
   "cell_type": "markdown",
   "metadata": {
    "id": "hywpavfWXmgj"
   },
   "source": [
    "3. Faites de même avec les valeurs de l’allèle majeure."
   ]
  },
  {
   "cell_type": "code",
   "execution_count": null,
   "metadata": {
    "id": "S06lFKNFXpi6"
   },
   "outputs": [],
   "source": [
    "print(\"Votre code ici !!\")"
   ]
  },
  {
   "cell_type": "markdown",
   "metadata": {
    "id": "fKPlBpolXp4a"
   },
   "source": [
    "4. Qu’observez-vous en comparant ces deux graphiques ?"
   ]
  },
  {
   "cell_type": "markdown",
   "metadata": {
    "id": "ZkIiI0MiXrkv"
   },
   "source": [
    "**Votre réponse ici !!**"
   ]
  },
  {
   "cell_type": "markdown",
   "metadata": {
    "id": "SxErlU8mXztr"
   },
   "source": [
    "5. Intéressons-nous maintenant aux données de génotypage. Dans ces données, une valeur NAN indique qu’il y a eu une erreur au niveau de l'acquisition des données. Affichez l’histogramme du nombre d’erreurs de génotypage par patient (nombre de NAN ou valeurs 4)."
   ]
  },
  {
   "cell_type": "code",
   "execution_count": null,
   "metadata": {
    "id": "KMhUoEfiYFZw"
   },
   "outputs": [],
   "source": [
    "print(\"Votre code ici !!\")"
   ]
  },
  {
   "cell_type": "markdown",
   "metadata": {
    "id": "HcUwaM30X-S_"
   },
   "source": [
    "6. Affichez l’histogramme du nombre d’erreurs par position de SNP (nombre de NAN ou valeurs 4)."
   ]
  },
  {
   "cell_type": "code",
   "execution_count": null,
   "metadata": {
    "id": "jyvNaVywYFAU"
   },
   "outputs": [],
   "source": [
    "print(\"Votre code ici !!\")"
   ]
  },
  {
   "cell_type": "markdown",
   "metadata": {
    "id": "M3hZVT8AYFzj"
   },
   "source": [
    "7. Retirez tous les SNP qui possèdent des valeurs à NaN ainsi que ceux possédant une seule valeur chez tous les patients. Faites attention de garder la liste des caractéristiques des SNP bien synchronisé car nous l’utiliserons pour la dernière question."
   ]
  },
  {
   "cell_type": "code",
   "execution_count": null,
   "metadata": {
    "id": "e6InXC4lYTE_"
   },
   "outputs": [],
   "source": [
    "print(\"Votre code ici !!\")"
   ]
  },
  {
   "cell_type": "markdown",
   "metadata": {
    "id": "seIzd4axYfzB"
   },
   "source": [
    "## Exercice 3 : Association\n",
    "\n",
    "Pour chaque SNP on va calculer sa probabilité d’être sur ou sous-représenté dans la population malade comparé à la population contrôle. Il existe plusieurs méthodes statistiques plus ou moins sophistiquées pour faire celà, nous allons voir la méthode la plus simple utilisant des tableaux de comptes d’allèles.\n",
    "\n",
    "1. Pour chaque génotype k, construisez le tableau 2x2 suivant O :\n",
    "$$\\begin{array}{|l|ll|}\n",
    "\\hline\n",
    "& Allele\\ mineure & Allele\\ majeure\\\\\\hline\n",
    "sain & a & b\\\\\n",
    "malade & c & d\\\\\n",
    "\\hline\n",
    "\\end{array}$$\n",
    "où $a,b$ sont les nombres de patients sain possédant l'allèle mineure ou majeure (respectivement) et $c,d$ les nombres de patients malades possédant l'alèlle mineure ou majeure (respectivement), pour le génotype $k$."
   ]
  },
  {
   "cell_type": "code",
   "execution_count": null,
   "metadata": {
    "id": "hr7QPkDoaewc"
   },
   "outputs": [],
   "source": [
    "print(\"Votre code ici !!\")"
   ]
  },
  {
   "cell_type": "markdown",
   "metadata": {
    "id": "dUNmVWUKafWU"
   },
   "source": [
    "2. \tPour chaque génotype $k$, calculez une p-value en effectuant un test du $\\chi^2$ sur la table $O$ :\n",
    "$$\n",
    "z_{ij} = \\frac{(o_{ij}-e_{ij})^2}{e_{ij}},\n",
    "$$\n",
    "où $o_{ij}$ est la valeure de la case $i,j$ de la table $O$ (la valeure observée) et $e$ la valeur attendue selon l'hypothèse nulle calculée par:\n",
    "$$e_{ij} = \\frac{\\left(\\sum\\limits_{k=1}^{2}o_{k,j}\\right)\\left(\\sum\\limits_{k=1}^{2}o_{i,k}\\right)}{\\sum\\limits_{k=1}^{2}\\sum\\limits_{l=1}^{2} o_{kl}}.$$\n",
    "\n",
    " Finalement $z = z_{11} + z_{12} + z_{21} + z_{22}$ doit suivre une loi du $\\chi^2$ à 1 degré de liberté. La p-value que le génotype mutant du SNP $k$ ait un effet sur la maladie est donnée par la probabilité associée à $z$.\n",
    "\n",
    " Vous pouvez utilisez la fonction chi2_contingency de scipy.stats."
   ]
  },
  {
   "cell_type": "code",
   "execution_count": null,
   "metadata": {
    "id": "15Wj_0G9cHjO"
   },
   "outputs": [],
   "source": [
    "print(\"Votre code ici !!\")"
   ]
  },
  {
   "cell_type": "markdown",
   "metadata": {
    "id": "kD9k-sLzcLCV"
   },
   "source": [
    "3. Affichez les résultat sous forme de graphique de Manhattan. Affichez toutes les paires (i, -log10(pval[i])) avec un marqueur « . »."
   ]
  },
  {
   "cell_type": "code",
   "execution_count": null,
   "metadata": {
    "id": "Bel6m2NzcaEA"
   },
   "outputs": [],
   "source": [
    "print(\"Votre code ici !!\")"
   ]
  },
  {
   "cell_type": "markdown",
   "metadata": {
    "id": "8XEzGFnFcaa_"
   },
   "source": [
    "4. Finalement, affichez les identifiants de tous les SNPs significativement plus présents chez les patients malades que sain. C'est à dire, les SNP avec\n",
    "$$-log10(pval) > 5$$"
   ]
  },
  {
   "cell_type": "code",
   "execution_count": null,
   "metadata": {
    "id": "4Vcj3SXOcpZF"
   },
   "outputs": [],
   "source": [
    "print(\"Votre code ici !!\")"
   ]
  }
 ],
 "metadata": {
  "colab": {
   "authorship_tag": "ABX9TyO4EBlCniHmp+9B7KsSDhF9",
   "include_colab_link": true,
   "provenance": []
  },
  "kernelspec": {
   "display_name": "Python 3 (ipykernel)",
   "language": "python",
   "name": "python3"
  },
  "language_info": {
   "codemirror_mode": {
    "name": "ipython",
    "version": 3
   },
   "file_extension": ".py",
   "mimetype": "text/x-python",
   "name": "python",
   "nbconvert_exporter": "python",
   "pygments_lexer": "ipython3",
   "version": "3.11.5"
  }
 },
 "nbformat": 4,
 "nbformat_minor": 1
}
